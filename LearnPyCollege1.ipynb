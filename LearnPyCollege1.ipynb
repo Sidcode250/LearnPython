{
 "cells": [
  {
   "cell_type": "code",
   "execution_count": 11,
   "metadata": {},
   "outputs": [
    {
     "name": "stdout",
     "output_type": "stream",
     "text": [
      "(1, 2, 4, 5, 9, 20)\n"
     ]
    }
   ],
   "source": [
    "tup1 = (5,9,1,20,4,2)\n",
    "tup1 = list(tup1)\n",
    "tup1.sort()\n",
    "tup1 = tuple(tup1)\n",
    "print(tup1)"
   ]
  },
  {
   "cell_type": "code",
   "execution_count": 24,
   "metadata": {},
   "outputs": [
    {
     "name": "stdout",
     "output_type": "stream",
     "text": [
      "20\n",
      "1\n"
     ]
    }
   ],
   "source": [
    "a = (1,2,3,4,20,5)\n",
    "b = 0\n",
    "for i in a:\n",
    "    if i>b:\n",
    "        b = i\n",
    "print(b)\n",
    "c = b+1\n",
    "for z in a:\n",
    "    if z<c:\n",
    "        c = z\n",
    "print(c)\n"
   ]
  },
  {
   "cell_type": "code",
   "execution_count": 53,
   "metadata": {},
   "outputs": [
    {
     "name": "stdout",
     "output_type": "stream",
     "text": [
      "30\n",
      "2\n",
      "3\n",
      "4\n",
      "5\n",
      "20\n",
      "6\n",
      "30\n",
      "3\n",
      "4\n",
      "5\n",
      "20\n",
      "6\n",
      "30\n",
      "4\n",
      "5\n",
      "20\n",
      "6\n",
      "30\n",
      "5\n",
      "20\n",
      "6\n",
      "30\n",
      "20\n",
      "6\n",
      "30\n",
      "30\n",
      "20\n"
     ]
    }
   ],
   "source": [
    "a=(30,1,2,3,4,5,20,6)\n",
    "\n",
    "for i in a:\n",
    "    for b in a:\n",
    "        if b>i:\n",
    "            \n",
    "            print(b)\n",
    "        \n",
    "       \n",
    "       \n",
    "\n"
   ]
  },
  {
   "cell_type": "code",
   "execution_count": 54,
   "metadata": {},
   "outputs": [
    {
     "name": "stdout",
     "output_type": "stream",
     "text": [
      "{1, 2, 3, 4, 5, 6, 7, 8, 9}\n",
      "{9}\n",
      "{1, 2, 3, 4}\n",
      "{1, 2, 3, 4, 5, 6, 7, 8}\n"
     ]
    }
   ],
   "source": [
    "a = {1,2,3,4,9}\n",
    "b = {5,6,7,8,9}\n",
    "print(a|b)#union\n",
    "print(a&b)#intersection\n",
    "print(a-b)#difference\n",
    "print(a^b)#symmetrical"
   ]
  },
  {
   "cell_type": "code",
   "execution_count": 75,
   "metadata": {},
   "outputs": [
    {
     "name": "stdout",
     "output_type": "stream",
     "text": [
      "{3, '5', 'shri', '2', '1'}\n",
      "{'5', 'shri', '2', '1'}\n",
      "{'5', 'shri', '1'}\n",
      "{'shri', '1'}\n"
     ]
    }
   ],
   "source": [
    "a = {1,2,3,4,9}\n",
    "b = {5,6,7,8,9}\n",
    "c = set()\n",
    "c.add(3)\n",
    "c.add(\"shri\")\n",
    "c.update('1','2','5')\n",
    "print(c)\n",
    "c.remove(3)\n",
    "print(c)\n",
    "c.discard('2')\n",
    "print(c)\n",
    "c.pop()\n",
    "print(c)"
   ]
  },
  {
   "cell_type": "code",
   "execution_count": 77,
   "metadata": {},
   "outputs": [
    {
     "name": "stdout",
     "output_type": "stream",
     "text": [
      "{'b': 1, 'c': 4, 'd': 3}\n"
     ]
    }
   ],
   "source": [
    "a = {\"b\":1, \"c\":2,\"d\":3}\n",
    "a[\"c\"] = 4\n",
    "print(a)"
   ]
  },
  {
   "cell_type": "code",
   "execution_count": 96,
   "metadata": {},
   "outputs": [
    {
     "name": "stdout",
     "output_type": "stream",
     "text": [
      "a 1\n",
      "b 2\n"
     ]
    }
   ],
   "source": [
    "a = {\"a\":1, \"b\":2}\n",
    "#print(len(a))\n",
    "for a,b in a.items():\n",
    "    print(a,b)"
   ]
  },
  {
   "cell_type": "code",
   "execution_count": 104,
   "metadata": {},
   "outputs": [
    {
     "name": "stdout",
     "output_type": "stream",
     "text": [
      "4\n"
     ]
    }
   ],
   "source": [
    "dict = {\"a\":1 , \"b\":2, \"c\":3, \"d\":4}\n",
    "for x,y in dict.items():\n",
    "    if x == \"d\":\n",
    "        print(y)\n",
    "    else:\n",
    "        pass"
   ]
  },
  {
   "cell_type": "code",
   "execution_count": 105,
   "metadata": {},
   "outputs": [
    {
     "name": "stdout",
     "output_type": "stream",
     "text": [
      "1\n"
     ]
    }
   ],
   "source": [
    "a = (2,1,3,4,5,32,8)\n",
    "\n",
    "for i in a:\n",
    "    for j in a:\n",
    "        if i>j:\n",
    "            print(j)\n",
    "            pass\n",
    "    break"
   ]
  },
  {
   "cell_type": "code",
   "execution_count": 121,
   "metadata": {},
   "outputs": [
    {
     "name": "stdout",
     "output_type": "stream",
     "text": [
      "b 1\n",
      "c 2\n",
      "d 3\n"
     ]
    }
   ],
   "source": [
    "x = {\"b\":1, \"c\":2,\"d\":3}\n",
    "y = {\"a\":4}\n",
    "z = {}\n",
    "for p,q in x.items():\n",
    "    print(p,q)"
   ]
  }
 ],
 "metadata": {
  "kernelspec": {
   "display_name": "Python 3",
   "language": "python",
   "name": "python3"
  },
  "language_info": {
   "codemirror_mode": {
    "name": "ipython",
    "version": 3
   },
   "file_extension": ".py",
   "mimetype": "text/x-python",
   "name": "python",
   "nbconvert_exporter": "python",
   "pygments_lexer": "ipython3",
   "version": "3.12.4"
  }
 },
 "nbformat": 4,
 "nbformat_minor": 2
}
