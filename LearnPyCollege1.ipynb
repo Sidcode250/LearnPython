{
 "cells": [
  {
   "cell_type": "code",
   "execution_count": 11,
   "metadata": {},
   "outputs": [
    {
     "name": "stdout",
     "output_type": "stream",
     "text": [
      "(1, 2, 4, 5, 9, 20)\n"
     ]
    }
   ],
   "source": [
    "tup1 = (5,9,1,20,4,2)\n",
    "tup1 = list(tup1)\n",
    "tup1.sort()\n",
    "tup1 = tuple(tup1)\n",
    "print(tup1)"
   ]
  },
  {
   "cell_type": "code",
   "execution_count": 24,
   "metadata": {},
   "outputs": [
    {
     "name": "stdout",
     "output_type": "stream",
     "text": [
      "20\n",
      "1\n"
     ]
    }
   ],
   "source": [
    "a = (1,2,3,4,20,5)\n",
    "b = 0\n",
    "for i in a:\n",
    "    if i>b:\n",
    "        b = i\n",
    "print(b)\n",
    "c = b+1\n",
    "for z in a:\n",
    "    if z<c:\n",
    "        c = z\n",
    "print(c)\n"
   ]
  },
  {
   "cell_type": "code",
   "execution_count": 53,
   "metadata": {},
   "outputs": [
    {
     "name": "stdout",
     "output_type": "stream",
     "text": [
      "30\n",
      "2\n",
      "3\n",
      "4\n",
      "5\n",
      "20\n",
      "6\n",
      "30\n",
      "3\n",
      "4\n",
      "5\n",
      "20\n",
      "6\n",
      "30\n",
      "4\n",
      "5\n",
      "20\n",
      "6\n",
      "30\n",
      "5\n",
      "20\n",
      "6\n",
      "30\n",
      "20\n",
      "6\n",
      "30\n",
      "30\n",
      "20\n"
     ]
    }
   ],
   "source": [
    "a=(30,1,2,3,4,5,20,6)\n",
    "\n",
    "for i in a:\n",
    "    for b in a:\n",
    "        if b>i:\n",
    "            \n",
    "            print(b)\n",
    "        \n",
    "       \n",
    "       \n",
    "\n"
   ]
  },
  {
   "cell_type": "code",
   "execution_count": 54,
   "metadata": {},
   "outputs": [
    {
     "name": "stdout",
     "output_type": "stream",
     "text": [
      "{1, 2, 3, 4, 5, 6, 7, 8, 9}\n",
      "{9}\n",
      "{1, 2, 3, 4}\n",
      "{1, 2, 3, 4, 5, 6, 7, 8}\n"
     ]
    }
   ],
   "source": [
    "a = {1,2,3,4,9}\n",
    "b = {5,6,7,8,9}\n",
    "print(a|b)#union\n",
    "print(a&b)#intersection\n",
    "print(a-b)#difference\n",
    "print(a^b)#symmetrical"
   ]
  },
  {
   "cell_type": "code",
   "execution_count": 75,
   "metadata": {},
   "outputs": [
    {
     "name": "stdout",
     "output_type": "stream",
     "text": [
      "{3, '5', 'shri', '2', '1'}\n",
      "{'5', 'shri', '2', '1'}\n",
      "{'5', 'shri', '1'}\n",
      "{'shri', '1'}\n"
     ]
    }
   ],
   "source": [
    "a = {1,2,3,4,9}\n",
    "b = {5,6,7,8,9}\n",
    "c = set()\n",
    "c.add(3)\n",
    "c.add(\"shri\")\n",
    "c.update('1','2','5')\n",
    "print(c)\n",
    "c.remove(3)\n",
    "print(c)\n",
    "c.discard('2')\n",
    "print(c)\n",
    "c.pop()\n",
    "print(c)"
   ]
  },
  {
   "cell_type": "code",
   "execution_count": 77,
   "metadata": {},
   "outputs": [
    {
     "name": "stdout",
     "output_type": "stream",
     "text": [
      "{'b': 1, 'c': 4, 'd': 3}\n"
     ]
    }
   ],
   "source": [
    "a = {\"b\":1, \"c\":2,\"d\":3}\n",
    "a[\"c\"] = 4\n",
    "print(a)"
   ]
  },
  {
   "cell_type": "code",
   "execution_count": 96,
   "metadata": {},
   "outputs": [
    {
     "name": "stdout",
     "output_type": "stream",
     "text": [
      "a 1\n",
      "b 2\n"
     ]
    }
   ],
   "source": [
    "a = {\"a\":1, \"b\":2}\n",
    "#print(len(a))\n",
    "for a,b in a.items():\n",
    "    print(a,b)"
   ]
  },
  {
   "cell_type": "code",
   "execution_count": 104,
   "metadata": {},
   "outputs": [
    {
     "name": "stdout",
     "output_type": "stream",
     "text": [
      "4\n"
     ]
    }
   ],
   "source": [
    "dict = {\"a\":1 , \"b\":2, \"c\":3, \"d\":4}\n",
    "for x,y in dict.items():\n",
    "    if x == \"d\":\n",
    "        print(y)\n",
    "    else:\n",
    "        pass"
   ]
  },
  {
   "cell_type": "code",
   "execution_count": 105,
   "metadata": {},
   "outputs": [
    {
     "name": "stdout",
     "output_type": "stream",
     "text": [
      "1\n"
     ]
    }
   ],
   "source": [
    "a = (2,1,3,4,5,32,8)\n",
    "\n",
    "for i in a:\n",
    "    for j in a:\n",
    "        if i>j:\n",
    "            print(j)\n",
    "            pass\n",
    "    break"
   ]
  },
  {
   "cell_type": "code",
   "execution_count": 121,
   "metadata": {},
   "outputs": [
    {
     "name": "stdout",
     "output_type": "stream",
     "text": [
      "b 1\n",
      "c 2\n",
      "d 3\n"
     ]
    }
   ],
   "source": [
    "x = {\"b\":1, \"c\":2,\"d\":3}\n",
    "y = {\"a\":4}\n",
    "z = {}\n",
    "for p,q in x.items():\n",
    "    print(p,q)"
   ]
  },
  {
   "cell_type": "code",
   "execution_count": 4,
   "metadata": {},
   "outputs": [
    {
     "name": "stdout",
     "output_type": "stream",
     "text": [
      "OR: True\n",
      "AND: False\n",
      "BITWISE OR: True\n",
      "BITWISE AND: False\n"
     ]
    }
   ],
   "source": [
    "x = True\n",
    "y = False\n",
    "if x or y:\n",
    "    print(\"OR: True\")\n",
    "else:\n",
    "    print(\"OR: False\")\n",
    "if x and y:\n",
    "    print(\"AND: True\")\n",
    "else:\n",
    "    print(\"AND: False\")\n",
    "print(\"BITWISE OR:\", x | y)\n",
    "print(\"BITWISE AND:\", x & y)"
   ]
  },
  {
   "cell_type": "code",
   "execution_count": 5,
   "metadata": {},
   "outputs": [
    {
     "name": "stdout",
     "output_type": "stream",
     "text": [
      "True\n",
      "False\n",
      "False\n",
      "False\n"
     ]
    }
   ],
   "source": [
    "print(True & True)\n",
    "print(True & False)\n",
    "print(False & True)\n",
    "print(False & False)"
   ]
  },
  {
   "cell_type": "code",
   "execution_count": 6,
   "metadata": {},
   "outputs": [
    {
     "name": "stdout",
     "output_type": "stream",
     "text": [
      "True\n",
      "True\n",
      "True\n",
      "False\n"
     ]
    }
   ],
   "source": [
    "print(True | True)\n",
    "print(True | False)\n",
    "print(False | True)\n",
    "print(False | False)"
   ]
  },
  {
   "cell_type": "code",
   "execution_count": 8,
   "metadata": {},
   "outputs": [
    {
     "name": "stdout",
     "output_type": "stream",
     "text": [
      "False\n",
      "True\n",
      "True\n",
      "False\n"
     ]
    }
   ],
   "source": [
    "print(True ^ True)\n",
    "print(True ^ False)\n",
    "print(False ^ True)\n",
    "print(False ^ False)"
   ]
  },
  {
   "cell_type": "code",
   "execution_count": 9,
   "metadata": {},
   "outputs": [
    {
     "name": "stdout",
     "output_type": "stream",
     "text": [
      "right shift 5\n"
     ]
    }
   ],
   "source": [
    "a = 10\n",
    "print(\"right shift\", a>>1)"
   ]
  },
  {
   "cell_type": "code",
   "execution_count": 24,
   "metadata": {},
   "outputs": [],
   "source": [
    "day = input(\"Input day between Monday To Sunday:\").upper()\n",
    "while day in ['MONDAY','TUESDAY','WEDNESDAY','THURSDAY','FRIDAY','sATURDAY','SUNDAY']:\n",
    "    if day not in ['MONDAY','TUESDAY','WEDNESDAY','THURSDAY','FRIDAY','sATURDAY','SUNDAY']:\n",
    "        print(\"Invalid Input\")\n",
    "        break\n",
    "    else:\n",
    "        print(day)\n",
    "        break"
   ]
  },
  {
   "cell_type": "code",
   "execution_count": 14,
   "metadata": {},
   "outputs": [
    {
     "name": "stdout",
     "output_type": "stream",
     "text": [
      "TUESDAY\n"
     ]
    }
   ],
   "source": [
    "print(\"tuesday\".upper())"
   ]
  },
  {
   "cell_type": "code",
   "execution_count": 27,
   "metadata": {},
   "outputs": [
    {
     "data": {
      "text/plain": [
       "False"
      ]
     },
     "execution_count": 27,
     "metadata": {},
     "output_type": "execute_result"
    }
   ],
   "source": [
    "a,b = 15,20 \n",
    "True if a>b else False \n",
    "# (if-expression) if (condition) else (else-expression)"
   ]
  },
  {
   "cell_type": "code",
   "execution_count": 26,
   "metadata": {},
   "outputs": [
    {
     "name": "stdout",
     "output_type": "stream",
     "text": [
      "Yes\n"
     ]
    }
   ],
   "source": [
    "a,b = 20, 30\n",
    "print(\"Yes\") if a+b == 50 else print(\"No\") "
   ]
  },
  {
   "cell_type": "code",
   "execution_count": 29,
   "metadata": {},
   "outputs": [
    {
     "name": "stdout",
     "output_type": "stream",
     "text": [
      "C\n"
     ]
    }
   ],
   "source": [
    "score = 60\n",
    "print(\"A\") if score>90 else print(\"B\") if score>80 else print(\"C\") if score>50 else print(\"Fail\")"
   ]
  },
  {
   "cell_type": "code",
   "execution_count": 32,
   "metadata": {},
   "outputs": [
    {
     "name": "stdout",
     "output_type": "stream",
     "text": [
      "1\n",
      "2\n",
      "3\n",
      "4\n"
     ]
    }
   ],
   "source": [
    "for i in range(1,10):\n",
    "    if i == 5:\n",
    "        break\n",
    "    print(i)"
   ]
  },
  {
   "cell_type": "code",
   "execution_count": 13,
   "metadata": {},
   "outputs": [
    {
     "name": "stdout",
     "output_type": "stream",
     "text": [
      "1\n",
      "2\n",
      "3\n",
      "4\n",
      "5\n",
      "6\n",
      "7\n",
      "8\n",
      "9\n",
      "10\n",
      "11\n"
     ]
    }
   ],
   "source": [
    "i = 0\n",
    "while i <= 10:\n",
    "    i=i+1\n",
    "    print(i)"
   ]
  },
  {
   "cell_type": "code",
   "execution_count": 15,
   "metadata": {},
   "outputs": [
    {
     "name": "stdout",
     "output_type": "stream",
     "text": [
      "55\n"
     ]
    }
   ],
   "source": [
    "sum = 0\n",
    "i = 0\n",
    "while i<=10:\n",
    "    sum+=i\n",
    "    i+=1\n",
    "print(sum)"
   ]
  },
  {
   "cell_type": "code",
   "execution_count": 3,
   "metadata": {},
   "outputs": [
    {
     "name": "stdout",
     "output_type": "stream",
     "text": [
      "100\n",
      "100\n"
     ]
    }
   ],
   "source": [
    "a = 100\n",
    "def great():\n",
    "    a = 200\n",
    "    print(globals()['a'])\n",
    "    def inner():\n",
    "        print(globals()['a'])\n",
    "    return inner()\n",
    "great()"
   ]
  },
  {
   "cell_type": "code",
   "execution_count": 4,
   "metadata": {},
   "outputs": [
    {
     "name": "stdout",
     "output_type": "stream",
     "text": [
      "[1, 4, 9, 16, 25]\n"
     ]
    }
   ],
   "source": [
    "lst  = [1,2,3,4,5]\n",
    "print(list(map(lambda n : n*n,lst)))"
   ]
  },
  {
   "cell_type": "code",
   "execution_count": 6,
   "metadata": {},
   "outputs": [
    {
     "name": "stdout",
     "output_type": "stream",
     "text": [
      "[2, 4, 6]\n"
     ]
    }
   ],
   "source": [
    "lst  = [1,2,3,4,5,6]\n",
    "print(list(filter(lambda n : n%2 == 0,lst)))"
   ]
  },
  {
   "cell_type": "code",
   "execution_count": 12,
   "metadata": {},
   "outputs": [
    {
     "name": "stdout",
     "output_type": "stream",
     "text": [
      "55\n",
      "True\n"
     ]
    }
   ],
   "source": [
    "import functools\n",
    "lst  = [1,2,3,4,5,6,7,8,9,10]\n",
    "print(functools.reduce(lambda a,b: a+b,lst ))"
   ]
  },
  {
   "cell_type": "code",
   "execution_count": 24,
   "metadata": {},
   "outputs": [
    {
     "name": "stdout",
     "output_type": "stream",
     "text": [
      "2\n"
     ]
    }
   ],
   "source": [
    "import functools\n",
    "lst = [2,3,4,5,6,7,8,9,10]\n",
    "count = max(lst)\n",
    "print(functools.reduce(lambda a,b: b if a>b else a,lst))\n",
    "#print(functools.reduce(lambda a,b: min(a,b),lst))\n",
    "#it just checks the answer and assign it a and the next letter to be b and keeps checking"
   ]
  },
  {
   "cell_type": "code",
   "execution_count": 28,
   "metadata": {},
   "outputs": [
    {
     "name": "stdout",
     "output_type": "stream",
     "text": [
      "Inside Decorators inner functions\n",
      "Number is odd\n",
      "Inside Main function\n"
     ]
    }
   ],
   "source": [
    "# Decorators\n",
    "\n",
    "def smart_even_odd(func):\n",
    "    def inner(num):\n",
    "        print(\"Inside Decorators inner functions\")\n",
    "        if num%2==0:\n",
    "            print(\"Number is even\")\n",
    "        else:\n",
    "            print(\"Number is odd\")\n",
    "        func(num)\n",
    "    return inner\n",
    "\n",
    "@smart_even_odd\n",
    "def even_odd(num):\n",
    "    print(\"Inside Main function\")\n",
    "num = int(input(\"Enter Input\"))\n",
    "even_odd(num)"
   ]
  },
  {
   "cell_type": "code",
   "execution_count": 30,
   "metadata": {},
   "outputs": [
    {
     "name": "stdout",
     "output_type": "stream",
     "text": [
      "10\n",
      "20\n",
      "30\n",
      "40\n"
     ]
    }
   ],
   "source": [
    "lst = [10,20,30,40]\n",
    "it = iter(lst)\n",
    "print(next(it))\n",
    "print(next(it))\n",
    "print(next(it))\n",
    "print(next(it))"
   ]
  },
  {
   "cell_type": "code",
   "execution_count": 32,
   "metadata": {},
   "outputs": [
    {
     "name": "stdout",
     "output_type": "stream",
     "text": [
      "10\n",
      "20\n",
      "30\n",
      "40\n"
     ]
    }
   ],
   "source": [
    "lst = [10,20,30,40]\n",
    "it = iter(lst)\n",
    "def simple():\n",
    "    print(next(it))\n",
    "    print(next(it))\n",
    "    print(next(it))\n",
    "    print(next(it))\n",
    "simple()"
   ]
  }
 ],
 "metadata": {
  "kernelspec": {
   "display_name": "Python 3",
   "language": "python",
   "name": "python3"
  },
  "language_info": {
   "codemirror_mode": {
    "name": "ipython",
    "version": 3
   },
   "file_extension": ".py",
   "mimetype": "text/x-python",
   "name": "python",
   "nbconvert_exporter": "python",
   "pygments_lexer": "ipython3",
   "version": "3.12.4"
  }
 },
 "nbformat": 4,
 "nbformat_minor": 2
}
