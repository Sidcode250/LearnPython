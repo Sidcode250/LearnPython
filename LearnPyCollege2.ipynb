{
 "cells": [
  {
   "cell_type": "code",
   "execution_count": 1,
   "metadata": {},
   "outputs": [
    {
     "name": "stdout",
     "output_type": "stream",
     "text": [
      "[9, 16, 25]\n"
     ]
    }
   ],
   "source": [
    "lst=[1,2,3,4,5]\n",
    "print([x**2 for x in lst if x>2])"
   ]
  },
  {
   "cell_type": "code",
   "execution_count": null,
   "metadata": {},
   "outputs": [],
   "source": []
  },
  {
   "cell_type": "code",
   "execution_count": 2,
   "metadata": {},
   "outputs": [
    {
     "name": "stdout",
     "output_type": "stream",
     "text": [
      "e\n"
     ]
    }
   ],
   "source": [
    "lst = [['akash','prem'],'shri']\n",
    "print(lst[0][1][2])"
   ]
  },
  {
   "cell_type": "code",
   "execution_count": 8,
   "metadata": {},
   "outputs": [
    {
     "name": "stdout",
     "output_type": "stream",
     "text": [
      "[2, 4]\n"
     ]
    }
   ],
   "source": [
    "lst=[1,2,3,4,5]\n",
    "print([x for x in lst if x%2==0])"
   ]
  },
  {
   "cell_type": "code",
   "execution_count": 29,
   "metadata": {},
   "outputs": [
    {
     "name": "stdout",
     "output_type": "stream",
     "text": [
      "['have at 3:30 we exam Today']\n"
     ]
    }
   ],
   "source": [
    "seq = \"Today Today we have exam exam at at 3:30\"\n",
    "seq = seq.split(\" \")\n",
    "print([' '.join({x for x in seq})])"
   ]
  },
  {
   "cell_type": "code",
   "execution_count": 32,
   "metadata": {},
   "outputs": [
    {
     "name": "stdout",
     "output_type": "stream",
     "text": [
      "{3, 6, 9, 12, 15, 18, 21, 24, 27, 30}\n"
     ]
    }
   ],
   "source": [
    "#create a set of multiples of 3\n",
    "print({x for x in range(1,31) if x%3==0})"
   ]
  },
  {
   "cell_type": "code",
   "execution_count": 45,
   "metadata": {},
   "outputs": [
    {
     "name": "stdout",
     "output_type": "stream",
     "text": [
      "['T', 'd', 'y', 'T', 'd', 'y', 'w', 'h', 'v', 'x', 'm', 'x', 'm', 't', 't', '3', ':', '3', '0']\n"
     ]
    }
   ],
   "source": [
    "seq = \"Today Today we have exam exam at at 3:30\"\n",
    "seq2 = ['a','e','i','o','u',' ']\n",
    "#print([x for x in seq])\n",
    "d = [x for x in seq if x not in seq2]\n",
    "print(d)\n"
   ]
  },
  {
   "cell_type": "code",
   "execution_count": 48,
   "metadata": {},
   "outputs": [
    {
     "name": "stdout",
     "output_type": "stream",
     "text": [
      "{1: 1, 2: 4, 3: 9, 4: 16, 5: 25, 6: 36, 7: 49, 8: 64, 9: 81, 10: 100}\n"
     ]
    }
   ],
   "source": [
    "a = [1,2,3,4,5,6,7,8,9,10]\n",
    "print({x:x**2 for x in a})"
   ]
  },
  {
   "cell_type": "code",
   "execution_count": 52,
   "metadata": {},
   "outputs": [
    {
     "name": "stdout",
     "output_type": "stream",
     "text": [
      "{'Sid': 'Bagul', 'Ainesh': 'Suresh', 'Akash': 'Kumbhar'}\n"
     ]
    }
   ],
   "source": [
    "first_name = ['Sid','Ainesh','Akash'] \n",
    "last_name = ['Bagul','Suresh','Kumbhar']\n",
    "#for x in range (0,4):\n",
    "print({first_name[x]:last_name[x] for x in range(len(first_name))})"
   ]
  },
  {
   "cell_type": "code",
   "execution_count": 59,
   "metadata": {},
   "outputs": [
    {
     "name": "stdout",
     "output_type": "stream",
     "text": [
      "{'Apple': 5, 'Banana': 10}\n"
     ]
    }
   ],
   "source": [
    "a = {\"Apple\":5,\"Banana\":10,\"Chikoo\":3,\"Papaya\":2}\n",
    "print({key:b for key,b in a.items() if b>3})"
   ]
  }
 ],
 "metadata": {
  "kernelspec": {
   "display_name": "Python 3",
   "language": "python",
   "name": "python3"
  },
  "language_info": {
   "codemirror_mode": {
    "name": "ipython",
    "version": 3
   },
   "file_extension": ".py",
   "mimetype": "text/x-python",
   "name": "python",
   "nbconvert_exporter": "python",
   "pygments_lexer": "ipython3",
   "version": "3.12.4"
  }
 },
 "nbformat": 4,
 "nbformat_minor": 2
}
