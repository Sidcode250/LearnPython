{
 "cells": [
  {
   "cell_type": "code",
   "execution_count": 1,
   "metadata": {},
   "outputs": [],
   "source": [
    "# Function for Selection Sort of elements\n",
    "\n",
    "def Selection_Sort(marks):\n",
    "    for i in range(len(marks)):\n",
    "\n",
    "        # Find the minimum element in remaining unsorted array\n",
    "        min_idx = i\n",
    "        for j in range(i + 1, len(marks)):\n",
    "            if marks[min_idx] > marks[j]:\n",
    "                min_idx = j\n",
    "\n",
    "        # Swap the minimum element with the first element\n",
    "        marks[i], marks[min_idx] = marks[min_idx], marks[i]\n",
    "\n",
    "    print(\"Marks of students after performing Selection Sort on the list : \")\n",
    "    for i in range(len(marks)):\n",
    "        print(marks[i])"
   ]
  }
 ],
 "metadata": {
  "kernelspec": {
   "display_name": "Python 3",
   "language": "python",
   "name": "python3"
  },
  "language_info": {
   "codemirror_mode": {
    "name": "ipython",
    "version": 3
   },
   "file_extension": ".py",
   "mimetype": "text/x-python",
   "name": "python",
   "nbconvert_exporter": "python",
   "pygments_lexer": "ipython3",
   "version": "3.12.4"
  }
 },
 "nbformat": 4,
 "nbformat_minor": 2
}
