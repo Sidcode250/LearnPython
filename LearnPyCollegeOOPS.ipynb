{
 "cells": [
  {
   "cell_type": "code",
   "execution_count": 1,
   "metadata": {},
   "outputs": [
    {
     "name": "stdout",
     "output_type": "stream",
     "text": [
      "Hello World\n",
      "None\n"
     ]
    }
   ],
   "source": [
    "class  class_name:\n",
    "    #statements\n",
    "    def read(self):\n",
    "        print(\"Hello World\")\n",
    "\n",
    "obj=class_name()\n",
    "print(obj.read())"
   ]
  },
  {
   "cell_type": "code",
   "execution_count": 2,
   "metadata": {},
   "outputs": [
    {
     "name": "stdout",
     "output_type": "stream",
     "text": [
      "I am: mammel\n",
      "I am: dog\n"
     ]
    }
   ],
   "source": [
    "class Dog:\n",
    "    att1 = \"mammel\"\n",
    "    att2=\"dog\"\n",
    "\n",
    "    def fun(self):\n",
    "        print(\"I am:\",self.att1)\n",
    "        print(\"I am:\", self.att2)\n",
    "\n",
    "obj=Dog()\n",
    "obj.fun()"
   ]
  },
  {
   "cell_type": "code",
   "execution_count": 5,
   "metadata": {},
   "outputs": [
    {
     "name": "stdout",
     "output_type": "stream",
     "text": [
      "Color: Grey\n",
      "Model: 720S\n"
     ]
    }
   ],
   "source": [
    "class vehicle:\n",
    "    model=\"720S\"\n",
    "    color=\"Grey\"\n",
    "    def specification(self):\n",
    "        print(\"Color:\",self.color)\n",
    "    def engine_type(self):\n",
    "        print(\"Model:\",self.model)\n",
    "obj = vehicle()\n",
    "obj.specification()\n",
    "obj.engine_type()"
   ]
  },
  {
   "cell_type": "code",
   "execution_count": 27,
   "metadata": {},
   "outputs": [
    {
     "name": "stdout",
     "output_type": "stream",
     "text": [
      "MC\n",
      "FC\n",
      "CC\n"
     ]
    }
   ],
   "source": [
    "class Father:\n",
    "    def __init__(self):\n",
    "        super().__init__()\n",
    "        print(\"FC\")\n",
    "    def message(self):\n",
    "        print(\"FM\")\n",
    "class Mother:\n",
    "    def __init__(self):\n",
    "        super().__init__()\n",
    "        print(\"MC\")\n",
    "    def message(self):\n",
    "        print(\"MM\")\n",
    "class child(Father,Mother):\n",
    "    def __init__(self):\n",
    "        super().__init__()\n",
    "        print(\"CC\")\n",
    "    def message(self):\n",
    "        print(\"CM\")\n",
    "\n",
    "obj = child()\n",
    "#obj.message()"
   ]
  }
 ],
 "metadata": {
  "kernelspec": {
   "display_name": "Python 3",
   "language": "python",
   "name": "python3"
  },
  "language_info": {
   "codemirror_mode": {
    "name": "ipython",
    "version": 3
   },
   "file_extension": ".py",
   "mimetype": "text/x-python",
   "name": "python",
   "nbconvert_exporter": "python",
   "pygments_lexer": "ipython3",
   "version": "3.12.4"
  }
 },
 "nbformat": 4,
 "nbformat_minor": 2
}
